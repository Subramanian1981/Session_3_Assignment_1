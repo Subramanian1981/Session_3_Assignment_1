{
 "cells": [
  {
   "cell_type": "code",
   "execution_count": 28,
   "metadata": {},
   "outputs": [
    {
     "name": "stdout",
     "output_type": "stream",
     "text": [
      "Enter The Number 1 :  5\n",
      "Enter The Number 2 :  0\n",
      "\n",
      "Error Occured while processing. Divisible by zero error...!!!\n",
      "\n",
      "0 cannot be used as denominator. Try with different number...\n"
     ]
    }
   ],
   "source": [
    "#1. Write a function to compute 5/0 and use try/except to catch the exceptions.\n",
    "\n",
    "def Compute_DIV(Num1, Num2):\n",
    "    \n",
    "    try:\n",
    "        Result = Num1/Num2\n",
    "        print(\"Output is \" +str(Result))\n",
    "        \n",
    "    except ZeroDivisionError:\n",
    "        print(\"\\nError Occured while processing. Divisible by zero error...!!!\")\n",
    "    \n",
    "    finally:\n",
    "        if(Num2 == 0):\n",
    "            print(\"\\n0 cannot be used as denominator. Try with different number...\")\n",
    "        else:\n",
    "                print(\"Inside Finally !!! Calculation Successful !!!\")\n",
    "            \n",
    "Num1 = int(input(\"Enter The Number 1 : \" + \" \"))\n",
    "Num2 = int(input(\"Enter The Number 2 : \" + \" \"))\n",
    "Compute_DIV(Num1, Num2)"
   ]
  },
  {
   "cell_type": "code",
   "execution_count": 5,
   "metadata": {},
   "outputs": [
    {
     "name": "stdout",
     "output_type": "stream",
     "text": [
      "Americans play Baseball\n",
      "Americans play Cricket\n",
      "Americans watch Baseball\n",
      "Americans watch Cricket\n",
      "Indians play Baseball\n",
      "Indians play Cricket\n",
      "Indians watch Baseball\n",
      "Indians watch Cricket\n"
     ]
    }
   ],
   "source": [
    "#2. Implement a Python program to generate all sentences where subject is in [\"Americans\",\n",
    "#Indians] and verb is in [\"Play\", \"watch\"] and the object is in [\"Baseball\",\"cricket\"].\n",
    "#Hint: Subject,Verb and Object should be declared in the program as shown below.\n",
    "#subjects=[\"Americans \",\"Indians\"]\n",
    "#verbs=[\"play\",\"watch\"]\n",
    "#objects=[\"Baseball\",\"Cricket\"]\n",
    "#Output should come as below:\n",
    "#Americans play Baseball.\n",
    "#Americans play Cricket.\n",
    "#Americans watch Baseball.\n",
    "#Americans watch Cricket.\n",
    "#Indians play Baseball.\n",
    "#Indians play Cricket.\n",
    "#Indians watch Baseball.\n",
    "#Indians watch Cricket.\n",
    "\n",
    "Subjects=[\"Americans\",\"Indians\"]\n",
    "Verbs=[\"play\",\"watch\"]\n",
    "Objects=[\"Baseball\",\"Cricket\"]\n",
    "\n",
    "Statement=[(Subject+\" \"+Verb+\" \"+Object) for Subject in subjects for Verb in verbs for Object in objects]\n",
    "\n",
    "for sent in Statement:\n",
    "    print(sent)"
   ]
  },
  {
   "cell_type": "code",
   "execution_count": 26,
   "metadata": {},
   "outputs": [
    {
     "name": "stdout",
     "output_type": "stream",
     "text": [
      "Your Input is :  [0 1 2 3 4] \n",
      "\n",
      "Decreasing Stage \n",
      "\n",
      "------------------------- \n",
      "\n",
      "[[  0   0   0   0   1]\n",
      " [  1   1   1   1   1]\n",
      " [ 16   8   4   2   1]\n",
      " [ 81  27   9   3   1]\n",
      " [256  64  16   4   1]]\n",
      "------------------------- \n",
      "\n",
      "Increasing Stage \n",
      "\n",
      "------------------------- \n",
      "\n",
      "[[  1   0   0   0   0]\n",
      " [  1   1   1   1   1]\n",
      " [  1   2   4   8  16]\n",
      " [  1   3   9  27  81]\n",
      " [  1   4  16  64 256]]\n"
     ]
    }
   ],
   "source": [
    "#Task 2:\n",
    "#1. Write a function so that the columns of the output matrix are powers of the input vector.\n",
    "#The order of the powers is determined by the increasing boolean argument. Specifically, when\n",
    "#increasing is False, the i-th output column is the input vector raised element-wise to the power of N - i - 1.\n",
    "#HINT: Such a matrix with a geometric progression in each row is named for Alexandre-Theophile Vandermonde.\n",
    "\n",
    "import numpy as np\n",
    "\n",
    "def func_myvander(x, N=None, increasing=False):\n",
    "    if increasing==False:\n",
    "        return (np.column_stack([x**(N-i-1) for i in range(N)]))\n",
    "    else:\n",
    "        return (np.column_stack([x**(i) for i in range(0,N)]))\n",
    "\n",
    "x=np.arange(5)\n",
    "print(\"Your Input is : \",x,\"\\n\")\n",
    "N=5\n",
    "print(\"Decreasing Stage\",\"\\n\")\n",
    "print(25*\"-\",\"\\n\")\n",
    "print(func_myvander(x,N,False))\n",
    "print(25*\"-\",\"\\n\")\n",
    "\n",
    "print(\"Increasing Stage\",\"\\n\")\n",
    "print(25*\"-\",\"\\n\")\n",
    "print(func_myvander(x,N,True))"
   ]
  }
 ],
 "metadata": {
  "kernelspec": {
   "display_name": "Python 3",
   "language": "python",
   "name": "python3"
  },
  "language_info": {
   "codemirror_mode": {
    "name": "ipython",
    "version": 3
   },
   "file_extension": ".py",
   "mimetype": "text/x-python",
   "name": "python",
   "nbconvert_exporter": "python",
   "pygments_lexer": "ipython3",
   "version": "3.7.0"
  }
 },
 "nbformat": 4,
 "nbformat_minor": 2
}
